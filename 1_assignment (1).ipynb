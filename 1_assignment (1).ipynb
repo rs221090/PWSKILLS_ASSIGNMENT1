{
 "cells": [
  {
   "cell_type": "markdown",
   "id": "79ab9571-823b-459a-8ea9-6b19f3f8b8af",
   "metadata": {},
   "source": [
    "Q1. Explain with an example each when to use a for loop and a while loop.\n",
    "\n",
    "solution1 : for loop can be used to iterate over an list and while loop can be used when we need user input\n",
    "            examples are given below\n",
    "            "
   ]
  },
  {
   "cell_type": "code",
   "execution_count": 2,
   "id": "e227ec69-850d-4888-ab3b-5fbfa11eeb5c",
   "metadata": {},
   "outputs": [
    {
     "name": "stdout",
     "output_type": "stream",
     "text": [
      "2\n",
      "4\n",
      "6\n",
      "8\n",
      "10\n"
     ]
    }
   ],
   "source": [
    "#To get square of every element of list\n",
    "l = [1,2,3,4,5]\n",
    "for i in l:\n",
    "    i = i*2\n",
    "    print(i)\n",
    "    \n"
   ]
  },
  {
   "cell_type": "code",
   "execution_count": 3,
   "id": "d7230efe-6284-4676-9948-08a2d98fe97a",
   "metadata": {},
   "outputs": [
    {
     "name": "stdin",
     "output_type": "stream",
     "text": [
      "enter your number 5\n"
     ]
    },
    {
     "name": "stdout",
     "output_type": "stream",
     "text": [
      "factorial of given number is 120\n"
     ]
    }
   ],
   "source": [
    "#to get factorial of given number\n",
    "number = int(input(\"enter your number\"))\n",
    "factorial = 1\n",
    "while number > 0:\n",
    "    factorial = factorial*number\n",
    "    number = number-1\n",
    "print(\"factorial of given number\" , \"is\", factorial)"
   ]
  },
  {
   "cell_type": "markdown",
   "id": "45c74078-5653-456d-98d0-b448d9eda8f0",
   "metadata": {
    "jp-MarkdownHeadingCollapsed": true,
    "tags": []
   },
   "source": [
    "\n",
    "\n",
    "Q2. Write a python program to print the sum and product of the first 10 natural numbers using for\n",
    "    and while loop.\n",
    "    "
   ]
  },
  {
   "cell_type": "code",
   "execution_count": 4,
   "id": "3ceb846f-aba3-4a3a-bab0-92f0ab438434",
   "metadata": {},
   "outputs": [
    {
     "name": "stdout",
     "output_type": "stream",
     "text": [
      "sum of first 10 natural number is 55 \n",
      "product of first 10 natural number is  3628800\n"
     ]
    }
   ],
   "source": [
    "#example of for loop\n",
    "sum = 0\n",
    "product = 1\n",
    "for n in range(1,11):\n",
    "    sum = sum + n\n",
    "    product = product * n\n",
    "print(\"sum of first 10 natural number is\" , sum ,\"\\nproduct of first 10 natural number is \", product)"
   ]
  },
  {
   "cell_type": "code",
   "execution_count": 5,
   "id": "00099e60-7a5d-492a-b156-12edb2fb83ab",
   "metadata": {},
   "outputs": [
    {
     "name": "stdout",
     "output_type": "stream",
     "text": [
      "sum of first 10 natural number is 55 \n",
      "product of first 10 natural number is  3628800\n"
     ]
    }
   ],
   "source": [
    "#example for while loop\n",
    "sum = 0\n",
    "product = 1\n",
    "n= 1\n",
    "while n <= 10:\n",
    "    sum = sum + n\n",
    "    product = product * n\n",
    "    n = n+1\n",
    "print(\"sum of first 10 natural number is\" , sum ,\"\\nproduct of first 10 natural number is \", product)\n"
   ]
  },
  {
   "cell_type": "markdown",
   "id": "af1f072c-a6c9-4e3a-bd99-2fa236a499ea",
   "metadata": {},
   "source": [
    "Q3. Create a python program to compute the electricity bill for a household.\n",
    "The per-unit charges in rupees are as follows: For the first 100 units, the user will be charged Rs. 4.5 per\n",
    "unit, for the next 100 units, the user will be charged Rs. 6 per unit, and for the next 100 units, the user will\n",
    "be charged Rs. 10 per unit, After 300 units and above the user will be charged Rs. 20 per unit.\n",
    "You are required to take the units of electricity consumed in a month from the user as input.\n",
    "Your program must pass this test case: when the unit of electricity consumed by the user in a month is\n",
    "310, the total electricity bill should be 2250."
   ]
  },
  {
   "cell_type": "code",
   "execution_count": 6,
   "id": "728d01b4-ec9a-4f5a-ad5a-756d7214719f",
   "metadata": {},
   "outputs": [
    {
     "name": "stdin",
     "output_type": "stream",
     "text": [
      "units of electricity consumed in a month 310\n"
     ]
    },
    {
     "name": "stdout",
     "output_type": "stream",
     "text": [
      "the total electricity bill will be 2250.0\n"
     ]
    }
   ],
   "source": [
    "input1 = int(input(\"units of electricity consumed in a month\"))\n",
    "if input1 <=100:\n",
    "    total_electricity_bill = 4.5*input1\n",
    "elif input1 >100 and input1 <=200:\n",
    "    total_electricity_bill = 4.5*100 +6*(input1-100)\n",
    "elif input1 >200 and input1 <=300:\n",
    "    total_electricity_bill = 4.5*100 + 6*100 +10*(input1-200)\n",
    "else:\n",
    "     total_electricity_bill = 4.5*100 + 6*100 +10*(100)+20*(input1-300)\n",
    "print(\"the total electricity bill will be\", total_electricity_bill)\n",
    "        \n",
    "     \n",
    "\n",
    "    \n",
    "    \n"
   ]
  },
  {
   "cell_type": "code",
   "execution_count": 7,
   "id": "1eeb47d0-bd9f-4ba1-9650-4f9235d052a8",
   "metadata": {},
   "outputs": [
    {
     "data": {
      "text/plain": [
       "2250.0"
      ]
     },
     "execution_count": 7,
     "metadata": {},
     "output_type": "execute_result"
    }
   ],
   "source": [
    "total_electricity_bill"
   ]
  },
  {
   "cell_type": "markdown",
   "id": "e1c91c40-9c7d-4c7f-a0d5-ae1b9a8badbd",
   "metadata": {},
   "source": [
    "Q4. Create a list of numbers from 1 to 100. Use for loop and while loop to calculate the cube of each\n",
    " number and if the cube of that number is divisible by 4 or 5 then append that number in a list and print\n",
    " that list."
   ]
  },
  {
   "cell_type": "code",
   "execution_count": 8,
   "id": "3b9cb40c-5f3d-4329-ad05-4b1fe8abc77f",
   "metadata": {},
   "outputs": [
    {
     "name": "stdout",
     "output_type": "stream",
     "text": [
      "[8, 64, 125, 216, 512, 1000, 1728, 2744, 3375, 4096, 5832, 8000, 10648, 13824, 15625, 17576, 21952, 27000, 32768, 39304, 42875, 46656, 54872, 64000, 74088, 85184, 91125, 97336, 110592, 125000, 140608, 157464, 166375, 175616, 195112, 216000, 238328, 262144, 274625, 287496, 314432, 343000, 373248, 405224, 421875, 438976, 474552, 512000, 551368, 592704, 614125, 636056, 681472, 729000, 778688, 830584, 857375, 884736, 941192, 1000000]\n"
     ]
    }
   ],
   "source": [
    "#for loop\n",
    "l= range(1,101)\n",
    "l1 = []\n",
    "for i in l:\n",
    "    i = i**3\n",
    "    if i%4==0 or i%5==0:\n",
    "        l1.append(i)\n",
    "print(l1)\n"
   ]
  },
  {
   "cell_type": "code",
   "execution_count": 9,
   "id": "9caa2eb4-b073-47ee-a4fe-d41597dff0a6",
   "metadata": {},
   "outputs": [
    {
     "name": "stdout",
     "output_type": "stream",
     "text": [
      "[8, 64, 125, 216, 512, 1000, 1728, 2744, 3375, 4096, 5832, 8000, 10648, 13824, 15625, 17576, 21952, 27000, 32768, 39304, 42875, 46656, 54872, 64000, 74088, 85184, 91125, 97336, 110592, 125000, 140608, 157464, 166375, 175616, 195112, 216000, 238328, 262144, 274625, 287496, 314432, 343000, 373248, 405224, 421875, 438976, 474552, 512000, 551368, 592704, 614125, 636056, 681472, 729000, 778688, 830584, 857375, 884736, 941192, 1000000]\n"
     ]
    }
   ],
   "source": [
    "#while loop\n",
    "l1 = []\n",
    "i = 1\n",
    "while i<=100:\n",
    "    a = i**3\n",
    "    if a%4==0 or a%5==0:\n",
    "        l1.append(a)\n",
    "    i = i+1\n",
    "\n",
    "print(l1)"
   ]
  },
  {
   "cell_type": "markdown",
   "id": "7e10c711-30e0-4178-93d5-828404e846c5",
   "metadata": {},
   "source": [
    " Q5. Write a program to filter count vowels in the below-given string.\n",
    "     string = \"I want to become a data scientist\""
   ]
  },
  {
   "cell_type": "code",
   "execution_count": 13,
   "id": "a0f0021e-d964-4813-857a-382770f5cb93",
   "metadata": {},
   "outputs": [
    {
     "name": "stdout",
     "output_type": "stream",
     "text": [
      "11\n"
     ]
    }
   ],
   "source": [
    "str1 = \"I want to become a data scientist\"\n",
    "l =  [\"a\",\"e\",\"i\",\"o\",\"u\"]\n",
    "l2 = []\n",
    "for i in range(0,len(str1)):\n",
    "    if str1[i] in l:\n",
    "        l2.append(str1[i])\n",
    "print(len(l2))\n",
    "        "
   ]
  },
  {
   "cell_type": "code",
   "execution_count": null,
   "id": "5fbb308e-193d-49de-89fd-b42c7c112553",
   "metadata": {},
   "outputs": [],
   "source": []
  }
 ],
 "metadata": {
  "kernelspec": {
   "display_name": "Python 3 (ipykernel)",
   "language": "python",
   "name": "python3"
  },
  "language_info": {
   "codemirror_mode": {
    "name": "ipython",
    "version": 3
   },
   "file_extension": ".py",
   "mimetype": "text/x-python",
   "name": "python",
   "nbconvert_exporter": "python",
   "pygments_lexer": "ipython3",
   "version": "3.10.8"
  }
 },
 "nbformat": 4,
 "nbformat_minor": 5
}
